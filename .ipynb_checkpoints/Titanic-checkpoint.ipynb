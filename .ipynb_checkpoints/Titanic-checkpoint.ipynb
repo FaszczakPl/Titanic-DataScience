{
 "cells": [
  {
   "cell_type": "markdown",
   "id": "9fff9dbe-7384-4ad5-ac4a-98e05081525d",
   "metadata": {},
   "source": [
    "# Titanic "
   ]
  },
  {
   "cell_type": "code",
   "execution_count": null,
   "id": "40a7d287-61ce-4a13-be20-067c1fc824a4",
   "metadata": {},
   "outputs": [],
   "source": []
  }
 ],
 "metadata": {
  "kernelspec": {
   "display_name": "Python 3 (ipykernel)",
   "language": "python",
   "name": "python3"
  },
  "language_info": {
   "codemirror_mode": {
    "name": "ipython",
    "version": 3
   },
   "file_extension": ".py",
   "mimetype": "text/x-python",
   "name": "python",
   "nbconvert_exporter": "python",
   "pygments_lexer": "ipython3",
   "version": "3.14.0"
  }
 },
 "nbformat": 4,
 "nbformat_minor": 5
}
